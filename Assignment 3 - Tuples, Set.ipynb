{
 "cells": [
  {
   "cell_type": "markdown",
   "id": "25f8db31",
   "metadata": {},
   "source": [
    "# 1.1 Write a Python Program to implement your own myreduce() function which works exactly like Python's built-in function reduce()"
   ]
  },
  {
   "cell_type": "code",
   "execution_count": 16,
   "id": "01ce4200",
   "metadata": {},
   "outputs": [
    {
     "name": "stdout",
     "output_type": "stream",
     "text": [
      "21\n",
      "240\n"
     ]
    }
   ],
   "source": [
    "#creating myreduce function\n",
    "\n",
    "def myreduce(func, lst):\n",
    "    a = lst[0]\n",
    "    for i in range(len(lst)-1):\n",
    "        a= func(a,lst[i+1])\n",
    "    return a\n",
    "\n",
    "lst = [0,1,2,3,4,5,6]\n",
    "\n",
    "def add(a,b):\n",
    "    return a+b\n",
    "\n",
    "def mult(a,b):\n",
    "    return (a+b)*2\n",
    "\n",
    "print(myreduce(add,lst))\n",
    "print(myreduce(mult,lst))\n"
   ]
  },
  {
   "cell_type": "code",
   "execution_count": 17,
   "id": "a32e384d",
   "metadata": {},
   "outputs": [
    {
     "name": "stdout",
     "output_type": "stream",
     "text": [
      "21\n",
      "240\n"
     ]
    }
   ],
   "source": [
    "#using reduce to get the same results to check\n",
    "\n",
    "from functools import reduce\n",
    "lst = [0,1,2,3,4,5,6]\n",
    "\n",
    "def add(a,b):\n",
    "    return (a+b)\n",
    "\n",
    "def mult(a,b):\n",
    "    return (a+b)*2\n",
    "\n",
    "print(reduce(add, lst))\n",
    "print(reduce(mult,lst))\n"
   ]
  },
  {
   "cell_type": "markdown",
   "id": "7ca2f75e",
   "metadata": {},
   "source": [
    "# Write a Python program to implement your own myfilter() function which works exactly like Python's built-in function filter()"
   ]
  },
  {
   "cell_type": "code",
   "execution_count": 18,
   "id": "ceeb954a",
   "metadata": {},
   "outputs": [
    {
     "name": "stdout",
     "output_type": "stream",
     "text": [
      "[2, 4, 6, 8]\n",
      "[1, 4, 5]\n"
     ]
    }
   ],
   "source": [
    "#creating myfilter function\n",
    "\n",
    "numbs = [1,2,3,4,5,6,7,8]\n",
    "data = ['a',1,'d',4,'d',5]\n",
    "\n",
    "def myfilter(func, lst):\n",
    "    a = []\n",
    "    for i in lst:\n",
    "        if func(i) == True:\n",
    "            a.append(i)\n",
    "    return a\n",
    "\n",
    "def is_even(a):\n",
    "    return a%2==0\n",
    "\n",
    "def is_int(a):\n",
    "    return type(a)==int or type(a)==float\n",
    "        \n",
    "even_nums = myfilter(is_even, numbs)\n",
    "print(even_nums)\n",
    "\n",
    "ints = myfilter(is_int,data)\n",
    "print(ints)"
   ]
  },
  {
   "cell_type": "code",
   "execution_count": 20,
   "id": "661d5d5c",
   "metadata": {},
   "outputs": [
    {
     "name": "stdout",
     "output_type": "stream",
     "text": [
      "[2, 4, 6, 8, 10]\n",
      "[1, 4, 5]\n"
     ]
    }
   ],
   "source": [
    "#using filter to get the same results to check\n",
    "\n",
    "nums = [1,2,3,4,5,6,7,8,9,10]\n",
    "data = ['a',1,'d',4,'d',5]\n",
    "\n",
    "def is_even(a):\n",
    "    return a%2==0\n",
    "\n",
    "def is_int(a):\n",
    "    return type(a)==int or type(a)==float\n",
    "\n",
    "evens = list(filter(is_even,nums))\n",
    "print(evens)\n",
    "ints = list(filter(is_int,data))\n",
    "print(ints)"
   ]
  },
  {
   "cell_type": "markdown",
   "id": "4f4078ca",
   "metadata": {},
   "source": [
    "# Implement List comprehensions to produce the following lists."
   ]
  },
  {
   "cell_type": "code",
   "execution_count": 21,
   "id": "880ca58c",
   "metadata": {},
   "outputs": [
    {
     "name": "stdout",
     "output_type": "stream",
     "text": [
      "['x', 'xx', 'xxx', 'xxxx', 'y', 'yy', 'yyy', 'yyyy', 'z', 'zz', 'zzz', 'zzzz']\n"
     ]
    }
   ],
   "source": [
    "list1 = [a*i for a in ('x','y','z') for i in range(1,5)]\n",
    "print(list1)"
   ]
  },
  {
   "cell_type": "code",
   "execution_count": 22,
   "id": "eba748c7",
   "metadata": {},
   "outputs": [
    {
     "name": "stdout",
     "output_type": "stream",
     "text": [
      "['x', 'y', 'z', 'xx', 'yy', 'zz', 'xxx', 'yyy', 'zzz', 'xxxx', 'yyyy', 'zzzz']\n"
     ]
    }
   ],
   "source": [
    "list2 = [a*i for i in range(1,5) for a in ('x','y','z')]\n",
    "print(list2)"
   ]
  },
  {
   "cell_type": "code",
   "execution_count": 23,
   "id": "9457cc72",
   "metadata": {},
   "outputs": [
    {
     "name": "stdout",
     "output_type": "stream",
     "text": [
      "[[2], [3], [4], [3], [4], [5], [4], [5], [6]] [[2, 3, 4, 5], [3, 4, 5, 6], [4, 5, 6, 7], [5, 6, 7, 8]]\n"
     ]
    }
   ],
   "source": [
    "list3a = [[a+x] for x in range (2,5) for a in range(0,3)]\n",
    "list3b = [[x+a for x in range(0,4)] for a in range(2,6)]\n",
    "print(list3a, list3b)"
   ]
  },
  {
   "cell_type": "code",
   "execution_count": 24,
   "id": "e7e54bd2",
   "metadata": {},
   "outputs": [
    {
     "name": "stdout",
     "output_type": "stream",
     "text": [
      "[(1, 1), (2, 1), (3, 1), (1, 2), (2, 2), (3, 2), (1, 3), (2, 3), (3, 3)]\n"
     ]
    }
   ],
   "source": [
    "list4 = [(a,b) for b in range(1,4) for a in range(1,4)]\n",
    "print(list4)"
   ]
  },
  {
   "cell_type": "code",
   "execution_count": null,
   "id": "2b89ba2c",
   "metadata": {},
   "outputs": [],
   "source": []
  }
 ],
 "metadata": {
  "kernelspec": {
   "display_name": "Python 3",
   "language": "python",
   "name": "python3"
  },
  "language_info": {
   "codemirror_mode": {
    "name": "ipython",
    "version": 3
   },
   "file_extension": ".py",
   "mimetype": "text/x-python",
   "name": "python",
   "nbconvert_exporter": "python",
   "pygments_lexer": "ipython3",
   "version": "3.8.8"
  }
 },
 "nbformat": 4,
 "nbformat_minor": 5
}
