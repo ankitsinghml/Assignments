{
 "cells": [
  {
   "cell_type": "markdown",
   "id": "46ae70c7",
   "metadata": {},
   "source": [
    "Create the below pattern using nested for loop in Python."
   ]
  },
  {
   "cell_type": "code",
   "execution_count": 17,
   "id": "4b9ace8f",
   "metadata": {},
   "outputs": [
    {
     "name": "stdout",
     "output_type": "stream",
     "text": [
      "\n",
      "* \n",
      "* * \n",
      "* * * \n",
      "* * * * \n",
      "* * * * * \n",
      "* * * * \n",
      "* * * \n",
      "* * \n",
      "* \n"
     ]
    }
   ],
   "source": [
    "n = 5\n",
    "\n",
    "for i in range(n+1):\n",
    "    for j in range(i):\n",
    "        print(\"* \", end='')\n",
    "    print('')\n",
    "    \n",
    "for i in range(n-1,0,-1):\n",
    "    for j in range(i):\n",
    "        print('* ', end='')\n",
    "    print('')"
   ]
  },
  {
   "cell_type": "markdown",
   "id": "3270e9a0",
   "metadata": {},
   "source": [
    "Write a Python program to reverse a word after accepting the input from the user."
   ]
  },
  {
   "cell_type": "code",
   "execution_count": 16,
   "id": "5d4a24a2",
   "metadata": {},
   "outputs": [
    {
     "name": "stdout",
     "output_type": "stream",
     "text": [
      "enter a word: ineuron\n",
      "norueni\n"
     ]
    }
   ],
   "source": [
    "#method_1\n",
    "word = input('enter a word: ')\n",
    "print(word[::-1])"
   ]
  },
  {
   "cell_type": "code",
   "execution_count": 15,
   "id": "202232fa",
   "metadata": {},
   "outputs": [
    {
     "name": "stdout",
     "output_type": "stream",
     "text": [
      "enter a word: ineuron\n",
      "norueni\n"
     ]
    }
   ],
   "source": [
    "#method_2\n",
    "word = input('enter a word: ')\n",
    "\n",
    "a = ''\n",
    "for i in word:\n",
    "    a = i + a\n",
    "print(a)"
   ]
  }
 ],
 "metadata": {
  "kernelspec": {
   "display_name": "Python 3",
   "language": "python",
   "name": "python3"
  },
  "language_info": {
   "codemirror_mode": {
    "name": "ipython",
    "version": 3
   },
   "file_extension": ".py",
   "mimetype": "text/x-python",
   "name": "python",
   "nbconvert_exporter": "python",
   "pygments_lexer": "ipython3",
   "version": "3.8.8"
  }
 },
 "nbformat": 4,
 "nbformat_minor": 5
}
