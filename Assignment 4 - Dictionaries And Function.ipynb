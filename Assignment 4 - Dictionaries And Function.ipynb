{
 "cells": [
  {
   "cell_type": "markdown",
   "id": "a38c7aba",
   "metadata": {},
   "source": [
    "# Write a Python Program(with class concepts) to find the area of the triangle using the below formula."
   ]
  },
  {
   "cell_type": "code",
   "execution_count": 8,
   "id": "8092f097",
   "metadata": {},
   "outputs": [
    {
     "data": {
      "text/plain": [
       "20.662465970933866"
      ]
     },
     "execution_count": 8,
     "metadata": {},
     "output_type": "execute_result"
    }
   ],
   "source": [
    "class triangle:\n",
    "        \n",
    "    def provide_length(self, a,b,c):\n",
    "        self.a = a\n",
    "        self.b = b\n",
    "        self.c = c\n",
    "\n",
    "class trianglearea(triangle):\n",
    "    \n",
    "    def calculate_area(self):\n",
    "        s = (self.a+self.b+self.c)/2\n",
    "        area = (s*(s-self.a)*(s-self.b)*(s-self.c))**0.5\n",
    "        return area\n",
    "    \n",
    "a1 = trianglearea()\n",
    "a1.provide_length(5,12,16)\n",
    "a1.calculate_area()"
   ]
  },
  {
   "cell_type": "markdown",
   "id": "25718118",
   "metadata": {},
   "source": [
    "# Write a function filter_long_words() that takes a list of words and an integer n and returns the list of words that are longer than n."
   ]
  },
  {
   "cell_type": "code",
   "execution_count": 10,
   "id": "9cc831d1",
   "metadata": {},
   "outputs": [
    {
     "name": "stdout",
     "output_type": "stream",
     "text": [
      "['ankit', 'ankitsin', 'singh', 'ankitsingh']\n"
     ]
    }
   ],
   "source": [
    "def filter_long_words(list, n):\n",
    "    longer_words = []\n",
    "    for i in list:\n",
    "        if len(i)>n:\n",
    "            longer_words.append(i)\n",
    "    return longer_words\n",
    "    \n",
    "a = ['a','an','ank','anki','ankit','ankitsin','sin','singh','ankitsingh']\n",
    "print(filter_long_words(a,4))"
   ]
  },
  {
   "cell_type": "markdown",
   "id": "fc9153c4",
   "metadata": {},
   "source": [
    "# Write a Python program using function concept that maps list of words into a list of integers representing the lengths of the corresponding words."
   ]
  },
  {
   "cell_type": "code",
   "execution_count": 12,
   "id": "b8ddfde3",
   "metadata": {},
   "outputs": [
    {
     "name": "stdout",
     "output_type": "stream",
     "text": [
      "[1, 2, 3, 4, 5, 8, 3, 5, 10]\n"
     ]
    }
   ],
   "source": [
    "def word_length(list):\n",
    "    length = []\n",
    "    for i in list:\n",
    "        length.append(len(i))\n",
    "    return length\n",
    "\n",
    "b = ['a','an','ank','anki','ankit','ankitsin','sin','singh','ankitsingh']\n",
    "print(word_length(b))"
   ]
  },
  {
   "cell_type": "markdown",
   "id": "be194689",
   "metadata": {},
   "source": [
    "# Write a Python function which takes a character (i.e. a string of length 1) and returns True if it is a vowel, False otherwise."
   ]
  },
  {
   "cell_type": "code",
   "execution_count": 15,
   "id": "74bcbec6",
   "metadata": {},
   "outputs": [
    {
     "name": "stdout",
     "output_type": "stream",
     "text": [
      "True\n",
      "False\n",
      "False\n"
     ]
    }
   ],
   "source": [
    "def is_vowel(a):\n",
    "    return a=='a' or a=='e' or a=='i' or a=='o' or a=='u'\n",
    "\n",
    "print(is_vowel('i'))\n",
    "print(is_vowel('v'))\n",
    "print(is_vowel('d'))"
   ]
  },
  {
   "cell_type": "code",
   "execution_count": null,
   "id": "4c20fb44",
   "metadata": {},
   "outputs": [],
   "source": []
  }
 ],
 "metadata": {
  "kernelspec": {
   "display_name": "Python 3",
   "language": "python",
   "name": "python3"
  },
  "language_info": {
   "codemirror_mode": {
    "name": "ipython",
    "version": 3
   },
   "file_extension": ".py",
   "mimetype": "text/x-python",
   "name": "python",
   "nbconvert_exporter": "python",
   "pygments_lexer": "ipython3",
   "version": "3.8.8"
  }
 },
 "nbformat": 4,
 "nbformat_minor": 5
}
