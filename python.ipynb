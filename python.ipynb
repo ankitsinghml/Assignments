{
 "cells": [
  {
   "cell_type": "code",
   "execution_count": 15,
   "metadata": {},
   "outputs": [
    {
     "data": {
      "text/plain": [
       "'tikna'"
      ]
     },
     "execution_count": 15,
     "metadata": {},
     "output_type": "execute_result"
    }
   ],
   "source": [
    "a = 'ankit'\n",
    "b = ''.join([a[-i] for i in range(1, len(a)+1)])\n",
    "b"
   ]
  },
  {
   "cell_type": "code",
   "execution_count": 28,
   "metadata": {},
   "outputs": [
    {
     "data": {
      "text/plain": [
       "5"
      ]
     },
     "execution_count": 28,
     "metadata": {},
     "output_type": "execute_result"
    }
   ],
   "source": [
    "def fibonacci(n):\n",
    "    if n == 1: return 1\n",
    "    elif n == 0: return 0\n",
    "    else: return fibonacci(n-1) + fibonacci(n-2)\n",
    "\n",
    "fibonacci(5)"
   ]
  },
  {
   "cell_type": "code",
   "execution_count": 47,
   "metadata": {},
   "outputs": [
    {
     "name": "stdout",
     "output_type": "stream",
     "text": [
      "0 [0, 1, 1, 2, 2, 3, 4, 4, 5]\n",
      "1 [0, 1, 1, 2, 2, 3, 4, 4, 5]\n",
      "2 [0, 1, 1, 2, 2, 3, 4, 4, 5]\n",
      "2 [0, 1, 2, 2, 3, 4, 4, 5]\n",
      "3 [0, 1, 2, 2, 3, 4, 4, 5]\n",
      "3 [0, 1, 2, 3, 4, 4, 5]\n",
      "4 [0, 1, 2, 3, 4, 4, 5]\n",
      "5 [0, 1, 2, 3, 4, 4, 5]\n",
      "5 [0, 1, 2, 3, 4, 5]\n"
     ]
    }
   ],
   "source": [
    "a = [0,1,1,2,2,3,4,4,5]\n",
    "j=0\n",
    "for i in range(len(a)):\n",
    "    \n",
    "    print(j, a)\n",
    "    if j!=0 and (a[j] == a[j-1]):\n",
    "        a.pop(j)\n",
    "        j-=1\n",
    "    j=j+1    "
   ]
  },
  {
   "cell_type": "code",
   "execution_count": 40,
   "metadata": {},
   "outputs": [
    {
     "data": {
      "text/plain": [
       "1"
      ]
     },
     "execution_count": 40,
     "metadata": {},
     "output_type": "execute_result"
    }
   ],
   "source": [
    "a = [1,2,5]\n",
    "a.pop(0)"
   ]
  },
  {
   "cell_type": "code",
   "execution_count": 41,
   "metadata": {},
   "outputs": [
    {
     "data": {
      "text/plain": [
       "[2, 5]"
      ]
     },
     "execution_count": 41,
     "metadata": {},
     "output_type": "execute_result"
    }
   ],
   "source": [
    "a"
   ]
  },
  {
   "cell_type": "code",
   "execution_count": 1,
   "metadata": {},
   "outputs": [],
   "source": [
    "b = [4,5]"
   ]
  },
  {
   "cell_type": "code",
   "execution_count": 2,
   "metadata": {},
   "outputs": [
    {
     "name": "stdout",
     "output_type": "stream",
     "text": [
      "[4, 5]\n"
     ]
    }
   ],
   "source": [
    "print(b)"
   ]
  },
  {
   "cell_type": "code",
   "execution_count": 1,
   "metadata": {},
   "outputs": [],
   "source": [
    "dev1 = [1,2]"
   ]
  },
  {
   "cell_type": "code",
   "execution_count": null,
   "metadata": {},
   "outputs": [],
   "source": []
  }
 ],
 "metadata": {
  "kernelspec": {
   "display_name": "Python 3",
   "language": "python",
   "name": "python3"
  },
  "language_info": {
   "codemirror_mode": {
    "name": "ipython",
    "version": 3
   },
   "file_extension": ".py",
   "mimetype": "text/x-python",
   "name": "python",
   "nbconvert_exporter": "python",
   "pygments_lexer": "ipython3",
   "version": "3.10.9"
  },
  "orig_nbformat": 4
 },
 "nbformat": 4,
 "nbformat_minor": 2
}
